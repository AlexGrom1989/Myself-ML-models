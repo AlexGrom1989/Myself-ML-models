{
 "cells": [
  {
   "cell_type": "markdown",
   "id": "871fc78a",
   "metadata": {},
   "source": [
    "Линейная Регрессия без регуляризации на основе Градиентного спуска. В sklearn она реализована формулой (МНК), т.е. это не итеративный метод. Если посмотреть на ошибку для разного числа итераций, то она будет все время уменьшаться и для теста и для трейна, потому что градиентный спуск будет пытаться просто прийти к весам как по формуле, переобучение невозможно, если признаки независимы и распределение отклика нормальное."
   ]
  },
  {
   "cell_type": "code",
   "execution_count": 162,
   "id": "f2eb1796",
   "metadata": {},
   "outputs": [],
   "source": [
    "import pandas as pd\n",
    "import numpy as np\n",
    "import matplotlib.pyplot as plt\n",
    "\n",
    "from sklearn.datasets import load_diabetes\n",
    "from sklearn.model_selection import train_test_split"
   ]
  },
  {
   "cell_type": "code",
   "execution_count": null,
   "id": "b7934934",
   "metadata": {},
   "outputs": [],
   "source": [
    "class MyLinReg:\n",
    "    def __init__(self):\n",
    "        self.w = None\n",
    "        \n",
    "\n",
    "    def fit(self, X_train, y_train, max_iter=100, learning_rate=0.5):\n",
    "        X_train = np.concatenate([ X_train, np.ones((X_train.shape[0], 1)) ], axis=1)\n",
    "        \n",
    "        self.w = np.random.rand(X_train.shape[1])\n",
    "        history = []\n",
    "\n",
    "        for i in range(max_iter):\n",
    "            y_pred = X_train @ self.w\n",
    "            Q = np.average(0.5*(y_train - y_pred)**2)\n",
    "            history.append(Q)\n",
    "            self.w -= learning_rate * (y_train - y_pred) @ -X_train / X_train.shape[0]\n",
    "\n",
    "        return history\n",
    "\n",
    "\n",
    "    def predict(self, X):\n",
    "        X = np.concatenate([ X, np.ones((X.shape[0], 1)) ], axis=1)\n",
    "        return X @ self.w"
   ]
  },
  {
   "cell_type": "code",
   "execution_count": 312,
   "id": "2dde06c6",
   "metadata": {},
   "outputs": [],
   "source": [
    "dataset = load_diabetes()\n",
    "X_train, X_test, y_train, y_test = train_test_split(dataset.data, dataset.target, train_size=0.7)"
   ]
  },
  {
   "cell_type": "code",
   "execution_count": 317,
   "id": "63b0a91a",
   "metadata": {},
   "outputs": [],
   "source": [
    "from sklearn.linear_model import LinearRegression\n",
    "\n",
    "pok = LinearRegression()\n",
    "pok.fit(X_train, y_train)\n",
    "\n",
    "kop = MyLinReg()\n",
    "kop.fit(X_train, y_train, max_iter=10000)\n",
    "\n",
    "None"
   ]
  },
  {
   "cell_type": "code",
   "execution_count": 322,
   "id": "172f9638",
   "metadata": {},
   "outputs": [
    {
     "data": {
      "text/plain": [
       "(array([ -27.56826065, -233.50747101,  579.91801999,  338.04687343,\n",
       "        -993.95943147,  635.47903981,  261.77200519,  287.97648853,\n",
       "         724.44651709,   97.79075675]),\n",
       " np.float64(153.00233126345086))"
      ]
     },
     "execution_count": 322,
     "metadata": {},
     "output_type": "execute_result"
    }
   ],
   "source": [
    "pok.coef_, pok.intercept_"
   ]
  },
  {
   "cell_type": "code",
   "execution_count": 319,
   "id": "bcf556cd",
   "metadata": {},
   "outputs": [
    {
     "data": {
      "text/plain": [
       "array([ -25.09446083, -224.30397551,  592.80681524,  340.44777783,\n",
       "       -114.32176859,  -55.35033864, -140.65290457,  163.21278861,\n",
       "        400.81755569,  102.32674663,  152.98459837])"
      ]
     },
     "execution_count": 319,
     "metadata": {},
     "output_type": "execute_result"
    }
   ],
   "source": [
    "kop.w"
   ]
  },
  {
   "cell_type": "code",
   "execution_count": 320,
   "id": "16efb392",
   "metadata": {},
   "outputs": [
    {
     "data": {
      "text/plain": [
       "np.float64(1670.618584726589)"
      ]
     },
     "execution_count": 320,
     "metadata": {},
     "output_type": "execute_result"
    }
   ],
   "source": [
    "np.average(0.5*(y_test - kop.predict(X_test))**2)"
   ]
  },
  {
   "cell_type": "code",
   "execution_count": 321,
   "id": "052f31f0",
   "metadata": {},
   "outputs": [
    {
     "data": {
      "text/plain": [
       "np.float64(1675.520343805276)"
      ]
     },
     "execution_count": 321,
     "metadata": {},
     "output_type": "execute_result"
    }
   ],
   "source": [
    "np.average(0.5*(y_test - pok.predict(X_test))**2)"
   ]
  },
  {
   "cell_type": "code",
   "execution_count": null,
   "id": "4e3b6b54",
   "metadata": {},
   "outputs": [],
   "source": []
  }
 ],
 "metadata": {
  "kernelspec": {
   "display_name": "venv",
   "language": "python",
   "name": "python3"
  },
  "language_info": {
   "codemirror_mode": {
    "name": "ipython",
    "version": 3
   },
   "file_extension": ".py",
   "mimetype": "text/x-python",
   "name": "python",
   "nbconvert_exporter": "python",
   "pygments_lexer": "ipython3",
   "version": "3.12.3"
  }
 },
 "nbformat": 4,
 "nbformat_minor": 5
}
