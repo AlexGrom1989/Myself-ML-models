{
 "cells": [
  {
   "cell_type": "markdown",
   "id": "57395dbc",
   "metadata": {},
   "source": [
    "RandomForest = Переобученные Деревья + Bootstrap + RandomSubSpace, без распараллеливания"
   ]
  },
  {
   "cell_type": "markdown",
   "id": "8b2ec205",
   "metadata": {},
   "source": [
    "До oob руки не дошли, но идейно - обучаем на всех данных, усредняем предсказания только на тех деревьях, которые не обучались на данном наблюдении. <br>\n",
    "Вместо этого просто valid ошибка (самодельный accuracy)"
   ]
  },
  {
   "cell_type": "code",
   "execution_count": 50,
   "id": "6136aeba",
   "metadata": {},
   "outputs": [],
   "source": [
    "import numpy as np\n",
    "from decision_tree_clas import MyDecisionTree"
   ]
  },
  {
   "cell_type": "code",
   "execution_count": 68,
   "id": "d432888c",
   "metadata": {},
   "outputs": [],
   "source": [
    "class MyRandomForest:\n",
    "    def __init__(self):\n",
    "        self.forest = None\n",
    "\n",
    "    def fit(self, X, y, n_trees):\n",
    "        self.forest = []\n",
    "\n",
    "        for i in range(n_trees):\n",
    "            ind = np.random.choice(X.shape[0], X.shape[0], replace=True)\n",
    "            p = np.random.randint(0, X.shape[1], int(np.sqrt(X.shape[1])))\n",
    "            tmp = MyDecisionTree(max_depth=17, min_samples=3)\n",
    "            tmp.fit(X[ind][:, p], y[ind])\n",
    "            self.forest.append((tmp, p))\n",
    "\n",
    "\n",
    "    def predict(self, X):\n",
    "        res = []\n",
    "\n",
    "        for tree, p in self.forest:\n",
    "            res.append(tree.predict(X[:, p]))\n",
    "\n",
    "        return np.array(res).mean(axis=0)"
   ]
  },
  {
   "cell_type": "code",
   "execution_count": 69,
   "id": "62f146bd",
   "metadata": {},
   "outputs": [],
   "source": [
    "from sklearn.datasets import load_breast_cancer\n",
    "from sklearn.model_selection import train_test_split\n",
    "\n",
    "# np.random.seed(42)\n",
    "dataset = load_breast_cancer()\n",
    "X_train, X_test, y_train, y_test = train_test_split(dataset.data, dataset.target, train_size=0.7)"
   ]
  },
  {
   "cell_type": "code",
   "execution_count": 70,
   "id": "ac3d3fd2",
   "metadata": {},
   "outputs": [
    {
     "data": {
      "text/plain": [
       "np.float64(0.9415204678362573)"
      ]
     },
     "execution_count": 70,
     "metadata": {},
     "output_type": "execute_result"
    }
   ],
   "source": [
    "kop = MyRandomForest()\n",
    "kop.fit(X_train, y_train, 100)\n",
    "((kop.predict(X_test)>0.5) == y_test).mean()"
   ]
  },
  {
   "cell_type": "code",
   "execution_count": 71,
   "id": "5c9c40db",
   "metadata": {},
   "outputs": [
    {
     "data": {
      "text/plain": [
       "np.float64(0.9415204678362573)"
      ]
     },
     "execution_count": 71,
     "metadata": {},
     "output_type": "execute_result"
    }
   ],
   "source": [
    "from sklearn.ensemble import RandomForestClassifier\n",
    "\n",
    "pok = RandomForestClassifier(n_estimators=100, criterion='gini', max_features='sqrt')\n",
    "pok.fit(X_train, y_train)\n",
    "(pok.predict(X_test) == y_test).mean()\n"
   ]
  },
  {
   "cell_type": "code",
   "execution_count": 72,
   "id": "da90d1e3",
   "metadata": {},
   "outputs": [
    {
     "data": {
      "text/plain": [
       "(array([1, 1, 1, 1, 1, 0, 0, 0, 0, 0]), array([1, 1, 1, 1, 1, 1, 1, 0, 0, 0]))"
      ]
     },
     "execution_count": 72,
     "metadata": {},
     "output_type": "execute_result"
    }
   ],
   "source": [
    "y_test[y_test != (kop.predict(X_test) > 0.5)], y_test[y_test != pok.predict(X_test)]"
   ]
  },
  {
   "cell_type": "code",
   "execution_count": 84,
   "id": "6cd76013",
   "metadata": {},
   "outputs": [
    {
     "data": {
      "text/plain": [
       "array([0.99, 0.38, 0.96, 0.98, 1.  , 1.  , 0.04, 0.36, 0.91, 0.9 , 0.11,\n",
       "       0.69, 0.99, 0.01, 0.  , 0.42, 0.93, 0.  , 1.  , 0.  , 0.  , 1.  ,\n",
       "       0.  , 1.  , 0.99, 0.9 , 0.  , 0.96, 0.48, 0.  , 1.  , 1.  , 0.49,\n",
       "       0.97, 0.  , 0.99, 0.03, 0.  , 0.99, 1.  , 0.47, 0.01, 0.  , 1.  ,\n",
       "       0.  , 1.  , 0.01, 0.99, 0.81, 0.58, 1.  , 0.98, 0.96, 0.  , 0.99,\n",
       "       1.  , 0.47, 0.99, 0.95, 1.  , 0.  , 0.  , 1.  , 0.98, 0.  , 0.98,\n",
       "       0.69, 0.98, 0.99, 0.7 , 0.  , 1.  , 0.01, 0.  , 1.  , 1.  , 0.  ,\n",
       "       0.23, 0.  , 0.13, 1.  , 0.  , 0.  , 0.92, 0.6 , 1.  , 0.97, 1.  ,\n",
       "       0.4 , 0.84, 0.81, 0.74, 0.91, 0.61, 0.99, 0.04, 1.  , 0.97, 0.  ,\n",
       "       1.  , 0.89, 0.  , 0.18, 1.  , 0.98, 0.92, 1.  , 0.08, 0.12, 0.73,\n",
       "       1.  , 0.99, 0.99, 1.  , 0.61, 1.  , 0.38, 0.99, 0.91, 0.53, 1.  ,\n",
       "       0.02, 1.  , 1.  , 0.99, 0.02, 0.99, 0.99, 0.  , 0.  , 0.7 , 0.95,\n",
       "       0.  , 0.89, 0.99, 0.03, 1.  , 0.02, 1.  , 0.98, 0.89, 0.99, 0.95,\n",
       "       0.91, 0.98, 0.98, 0.96, 0.05, 0.99, 0.02, 0.99, 1.  , 0.01, 0.04,\n",
       "       0.  , 0.  , 1.  , 1.  , 1.  , 0.14, 0.91, 0.43, 1.  , 0.93, 1.  ,\n",
       "       0.49, 0.  , 0.87, 0.88, 1.  , 0.  ])"
      ]
     },
     "execution_count": 84,
     "metadata": {},
     "output_type": "execute_result"
    }
   ],
   "source": [
    "pok.predict_proba(X_test)[:, 1].round(2)"
   ]
  },
  {
   "cell_type": "code",
   "execution_count": 89,
   "id": "0b1c3d0d",
   "metadata": {},
   "outputs": [
    {
     "data": {
      "text/plain": [
       "<matplotlib.lines.Line2D at 0x70cd20962060>"
      ]
     },
     "execution_count": 89,
     "metadata": {},
     "output_type": "execute_result"
    },
    {
     "data": {
      "image/png": "[encoded data removed]",
      "text/plain": [
       "<Figure size 640x480 with 1 Axes>"
      ]
     },
     "metadata": {},
     "output_type": "display_data"
    }
   ],
   "source": [
    "import matplotlib.pyplot as plt\n",
    "\n",
    "plt.scatter(pok.predict_proba(X_test)[:, 1].round(2), y_test, c='b')\n",
    "plt.scatter(kop.predict(X_test).round(2), y_test, c='g')\n",
    "plt.axvline(0.5)"
   ]
  },
  {
   "cell_type": "code",
   "execution_count": null,
   "id": "d25bf8a0",
   "metadata": {},
   "outputs": [],
   "source": []
  }
 ],
 "metadata": {
  "kernelspec": {
   "display_name": "venv",
   "language": "python",
   "name": "python3"
  },
  "language_info": {
   "codemirror_mode": {
    "name": "ipython",
    "version": 3
   },
   "file_extension": ".py",
   "mimetype": "text/x-python",
   "name": "python",
   "nbconvert_exporter": "python",
   "pygments_lexer": "ipython3",
   "version": "3.12.3"
  }
 },
 "nbformat": 4,
 "nbformat_minor": 5
}
