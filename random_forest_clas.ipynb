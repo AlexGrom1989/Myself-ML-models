{
 "cells": [
  {
   "cell_type": "markdown",
   "id": "57395dbc",
   "metadata": {},
   "source": [
    "RandomForest = Переобученные Деревья + Bootstrap + RandomSubSpace, без распараллеливания"
   ]
  },
  {
   "cell_type": "markdown",
   "id": "8b2ec205",
   "metadata": {},
   "source": [
    "До oob руки не дошли, но идейно - обучаем на всех данных, усредняем предсказания только на тех деревьях, которые не обучались на данном наблюдении. <br>\n",
    "Вместо этого просто valid ошибка (самодельный accuracy)"
   ]
  },
  {
   "cell_type": "code",
   "execution_count": 1,
   "id": "6136aeba",
   "metadata": {},
   "outputs": [],
   "source": [
    "import numpy as np\n",
    "from decision_tree_clas import MyDecisionTree"
   ]
  },
  {
   "cell_type": "code",
   "execution_count": 2,
   "id": "d432888c",
   "metadata": {},
   "outputs": [],
   "source": [
    "class MyRandomForest:\n",
    "    def __init__(self):\n",
    "        self.forest = None\n",
    "\n",
    "    def fit(self, X, y, n_trees):\n",
    "        self.forest = []\n",
    "\n",
    "        for i in range(n_trees):\n",
    "            ind = np.random.choice(X.shape[0], X.shape[0], replace=True)\n",
    "            p = np.random.randint(0, X.shape[1], int(np.sqrt(X.shape[1])))\n",
    "            tmp = MyDecisionTree(max_depth=17, min_samples=3)\n",
    "            tmp.fit(X[ind][:, p], y[ind])\n",
    "            self.forest.append((tmp, p))\n",
    "\n",
    "\n",
    "    def predict(self, X):\n",
    "        res = []\n",
    "\n",
    "        for tree, p in self.forest:\n",
    "            res.append(tree.predict(X[:, p]))\n",
    "\n",
    "        return np.array(res).mean(axis=0)"
   ]
  },
  {
   "cell_type": "code",
   "execution_count": 3,
   "id": "62f146bd",
   "metadata": {},
   "outputs": [],
   "source": [
    "from sklearn.datasets import load_breast_cancer\n",
    "from sklearn.model_selection import train_test_split\n",
    "\n",
    "# np.random.seed(42)\n",
    "dataset = load_breast_cancer()\n",
    "X_train, X_test, y_train, y_test = train_test_split(dataset.data, dataset.target, train_size=0.7)"
   ]
  },
  {
   "cell_type": "code",
   "execution_count": 4,
   "id": "ac3d3fd2",
   "metadata": {},
   "outputs": [
    {
     "data": {
      "text/plain": [
       "np.float64(0.9532163742690059)"
      ]
     },
     "execution_count": 4,
     "metadata": {},
     "output_type": "execute_result"
    }
   ],
   "source": [
    "kop = MyRandomForest()\n",
    "kop.fit(X_train, y_train, 100)\n",
    "((kop.predict(X_test)>0.5) == y_test).mean()"
   ]
  },
  {
   "cell_type": "code",
   "execution_count": 5,
   "id": "5c9c40db",
   "metadata": {},
   "outputs": [
    {
     "data": {
      "text/plain": [
       "np.float64(0.9298245614035088)"
      ]
     },
     "execution_count": 5,
     "metadata": {},
     "output_type": "execute_result"
    }
   ],
   "source": [
    "from sklearn.ensemble import RandomForestClassifier\n",
    "\n",
    "pok = RandomForestClassifier(n_estimators=100, criterion='gini', max_features='sqrt')\n",
    "pok.fit(X_train, y_train)\n",
    "(pok.predict(X_test) == y_test).mean()\n"
   ]
  },
  {
   "cell_type": "code",
   "execution_count": 6,
   "id": "da90d1e3",
   "metadata": {},
   "outputs": [
    {
     "data": {
      "text/plain": [
       "(array([0, 0, 1, 0, 0, 0, 1, 0]), array([0, 1, 0, 1, 0, 0, 0, 0, 1, 1, 1, 0]))"
      ]
     },
     "execution_count": 6,
     "metadata": {},
     "output_type": "execute_result"
    }
   ],
   "source": [
    "y_test[y_test != (kop.predict(X_test) > 0.5)], y_test[y_test != pok.predict(X_test)]"
   ]
  },
  {
   "cell_type": "code",
   "execution_count": 7,
   "id": "0b1c3d0d",
   "metadata": {},
   "outputs": [
    {
     "data": {
      "text/plain": [
       "<matplotlib.lines.Line2D at 0x7dafa6fccda0>"
      ]
     },
     "execution_count": 7,
     "metadata": {},
     "output_type": "execute_result"
    },
    {
     "data": {
      "image/png": "[encoded data removed]",
      "text/plain": [
       "<Figure size 640x480 with 1 Axes>"
      ]
     },
     "metadata": {},
     "output_type": "display_data"
    }
   ],
   "source": [
    "import matplotlib.pyplot as plt\n",
    "\n",
    "plt.scatter(pok.predict_proba(X_test)[:, 1].round(2), y_test, c='b')\n",
    "plt.scatter(kop.predict(X_test).round(2), y_test, c='g')\n",
    "plt.axvline(0.5)"
   ]
  },
  {
   "cell_type": "code",
   "execution_count": null,
   "id": "d25bf8a0",
   "metadata": {},
   "outputs": [],
   "source": []
  }
 ],
 "metadata": {
  "kernelspec": {
   "display_name": "venv",
   "language": "python",
   "name": "python3"
  },
  "language_info": {
   "codemirror_mode": {
    "name": "ipython",
    "version": 3
   },
   "file_extension": ".py",
   "mimetype": "text/x-python",
   "name": "python",
   "nbconvert_exporter": "python",
   "pygments_lexer": "ipython3",
   "version": "3.12.3"
  }
 },
 "nbformat": 4,
 "nbformat_minor": 5
}
