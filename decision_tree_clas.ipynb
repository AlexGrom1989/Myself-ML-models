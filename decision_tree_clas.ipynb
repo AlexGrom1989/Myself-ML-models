{
 "cells": [
  {
   "cell_type": "markdown",
   "id": "10ffc395",
   "metadata": {},
   "source": [
    "Решающее дерево бинарной классификации на основе Индекса Джини и выбором одного из sqrt(N) рандомных сплитов. Каждый узел реализовал как объект класса, mean это по факту предиктор (показывает, какой класс преобладает в области)."
   ]
  },
  {
   "cell_type": "markdown",
   "id": "3c442e3c",
   "metadata": {},
   "source": [
    "+ Киллер-фича: дополнительный штраф за выбор сплита с большим дисбалансом в размере дочерних узлов <br>`imbalance = abs(left_mask.sum() - len(X)/2) / len(X)`"
   ]
  },
  {
   "cell_type": "markdown",
   "id": "2b550914",
   "metadata": {},
   "source": [
    "киллер фича улучшает качество, т.к. если поддерево почти не отличается от родительского узла(или наоборот, слишком маленькое (шумное)) → разделение бесполезное, но увеличивает глубину дерева."
   ]
  },
  {
   "cell_type": "code",
   "execution_count": 1,
   "id": "fafe2ab5",
   "metadata": {},
   "outputs": [],
   "source": [
    "import numpy as np"
   ]
  },
  {
   "cell_type": "code",
   "execution_count": 2,
   "id": "0bd1ee9d",
   "metadata": {},
   "outputs": [],
   "source": [
    "class MyDecisionTree:\n",
    "    def __init__(self, max_depth=5, min_samples=5):\n",
    "        self.max_depth = max_depth\n",
    "        self.min_samples = min_samples\n",
    "        self.root = None\n",
    "\n",
    "    class Node:\n",
    "        def __init__(self, mean, split_feature=None, split_value=None):\n",
    "            self.mean = mean\n",
    "            self.split_feature = split_feature\n",
    "            self.split_value = split_value\n",
    "            self.left = None\n",
    "            self.right = None\n",
    "\n",
    "    def _gini(self, y_left, y_right):\n",
    "        p_left = y_left.mean()\n",
    "        p_right = y_right.mean()\n",
    "        return 2*p_left*(1-p_left) + 2*p_right*(1-p_right)\n",
    "\n",
    "    def _best_split(self, X, y):\n",
    "        best = (None, None, np.inf)\n",
    "        \n",
    "        for p in range(X.shape[1]):\n",
    "            values = np.unique(X[:, p])\n",
    "            \n",
    "            for v in values:\n",
    "                left_mask = X[:, p] < v\n",
    "                if left_mask.sum() < self.min_samples or (~left_mask).sum() < self.min_samples:\n",
    "                    continue\n",
    "                \n",
    "                gini = self._gini(y[left_mask], y[~left_mask])\n",
    "                imbalance = abs(left_mask.sum() - len(X)/2) / len(X)\n",
    "                score = gini + 0.5*imbalance\n",
    "                \n",
    "                if score < best[2]:\n",
    "                    best = (p, v, score)\n",
    "        \n",
    "        return best\n",
    "\n",
    "    def _build_tree(self, X, y, depth):\n",
    "        node = self.Node(y.mean())\n",
    "        \n",
    "        if depth == 0 or len(y) < 2*self.min_samples:\n",
    "            return node\n",
    "            \n",
    "        p, v, _ = self._best_split(X, y)\n",
    "        if p is None:\n",
    "            return node\n",
    "            \n",
    "        left_mask = X[:, p] < v\n",
    "        node.split_feature = p\n",
    "        node.split_value = v\n",
    "        node.left = self._build_tree(X[left_mask], y[left_mask], depth-1)\n",
    "        node.right = self._build_tree(X[~left_mask], y[~left_mask], depth-1)\n",
    "        \n",
    "        return node\n",
    "\n",
    "    def fit(self, X, y):\n",
    "        self.root = self._build_tree(X, y, self.max_depth)\n",
    "\n",
    "    def _predict(self, x, node):\n",
    "        if node.split_feature is None:\n",
    "            return node.mean\n",
    "        if x[node.split_feature] < node.split_value:\n",
    "            return self._predict(x, node.left)\n",
    "        return self._predict(x, node.right)\n",
    "\n",
    "    def predict(self, X):\n",
    "        return np.array([self._predict(x, self.root) for x in X])"
   ]
  },
  {
   "cell_type": "code",
   "execution_count": 3,
   "id": "0f3013fc",
   "metadata": {},
   "outputs": [],
   "source": [
    "from sklearn.datasets import load_breast_cancer\n",
    "from sklearn.model_selection import train_test_split\n",
    "\n",
    "np.random.seed(42)\n",
    "dataset = load_breast_cancer()\n",
    "X_train, X_test, y_train, y_test = train_test_split(dataset.data, dataset.target, train_size=0.7)"
   ]
  },
  {
   "cell_type": "code",
   "execution_count": 4,
   "id": "d9c10551",
   "metadata": {},
   "outputs": [
    {
     "data": {
      "text/plain": [
       "np.float64(0.935672514619883)"
      ]
     },
     "execution_count": 4,
     "metadata": {},
     "output_type": "execute_result"
    }
   ],
   "source": [
    "kop = MyDecisionTree(min_samples=5, max_depth=5)\n",
    "kop.fit(X_train, y_train)\n",
    "((kop.predict(X_test)>0.5) == y_test).mean()"
   ]
  },
  {
   "cell_type": "code",
   "execution_count": 5,
   "id": "7ef290c8",
   "metadata": {},
   "outputs": [
    {
     "data": {
      "text/plain": [
       "np.float64(0.935672514619883)"
      ]
     },
     "execution_count": 5,
     "metadata": {},
     "output_type": "execute_result"
    }
   ],
   "source": [
    "from sklearn.tree import DecisionTreeClassifier\n",
    "\n",
    "pok = DecisionTreeClassifier(criterion='gini', max_features='sqrt')\n",
    "pok.fit(X_train, y_train)\n",
    "(pok.predict(X_test) == y_test).mean()\n"
   ]
  },
  {
   "cell_type": "code",
   "execution_count": null,
   "id": "c2a8893d",
   "metadata": {},
   "outputs": [],
   "source": []
  },
  {
   "cell_type": "code",
   "execution_count": null,
   "id": "1df6f3ba",
   "metadata": {},
   "outputs": [],
   "source": []
  }
 ],
 "metadata": {
  "kernelspec": {
   "display_name": "venv",
   "language": "python",
   "name": "python3"
  },
  "language_info": {
   "codemirror_mode": {
    "name": "ipython",
    "version": 3
   },
   "file_extension": ".py",
   "mimetype": "text/x-python",
   "name": "python",
   "nbconvert_exporter": "python",
   "pygments_lexer": "ipython3",
   "version": "3.12.3"
  }
 },
 "nbformat": 4,
 "nbformat_minor": 5
}
